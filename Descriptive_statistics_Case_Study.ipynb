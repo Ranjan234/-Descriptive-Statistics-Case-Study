{
 "cells": [
  {
   "cell_type": "markdown",
   "metadata": {},
   "source": [
    "\n",
    "Introduction\n",
    "\n",
    "This Jupyter notebook is part of your learning experience in the study of descriptive statistics You will work with a simple data set that contains information about employee.\n",
    "\n",
    "In this exercise, you will perform the following tasks:\n",
    "\n",
    "1 - Load and study the data\n",
    "\n",
    "2 - Visualise the distributions of ratings and compensations\n",
    "\n",
    "3 - Subset the data based on thresholds"
   ]
  },
  {
   "cell_type": "markdown",
   "metadata": {},
   "source": [
    "Task 1 - Load and study the data\n",
    "\n",
    "Load the data and study its features such as:\n",
    "\n",
    "The number of employees\n",
    "The number of features\n",
    "The types of features"
   ]
  },
  {
   "cell_type": "code",
   "execution_count": 1,
   "metadata": {},
   "outputs": [],
   "source": [
    "# Load \"numpy\" and \"pandas\" for manipulating numbers and dataframes\n",
    "# Load \"matplotlib.pyplot\" and \"seaborn\" for data visualisation\n",
    "\n",
    "import pandas as pd\n",
    "import numpy as np\n",
    "import matplotlib.pyplot as plt\n",
    "import seaborn as sns"
   ]
  },
  {
   "cell_type": "code",
   "execution_count": 2,
   "metadata": {},
   "outputs": [],
   "source": [
    "# Read in the \"Employee_Dataset\" file in the data frame\n",
    "df = pd.read_csv(\"Employee Dataset.csv\")"
   ]
  },
  {
   "cell_type": "code",
   "execution_count": 3,
   "metadata": {},
   "outputs": [
    {
     "data": {
      "application/vnd.microsoft.datawrangler.viewer.v0+json": {
       "columns": [
        {
         "name": "index",
         "rawType": "int64",
         "type": "integer"
        },
        {
         "name": "id",
         "rawType": "int64",
         "type": "integer"
        },
        {
         "name": "groups",
         "rawType": "object",
         "type": "string"
        },
        {
         "name": "age",
         "rawType": "int64",
         "type": "integer"
        },
        {
         "name": "healthy_eating",
         "rawType": "int64",
         "type": "integer"
        },
        {
         "name": "active_lifestyle",
         "rawType": "int64",
         "type": "integer"
        },
        {
         "name": "salary",
         "rawType": "int64",
         "type": "integer"
        }
       ],
       "conversionMethod": "pd.DataFrame",
       "ref": "4215f236-ee93-487c-bf71-67000aa41b93",
       "rows": [
        [
         "0",
         "0",
         "A",
         "36",
         "5",
         "5",
         "2297"
        ],
        [
         "1",
         "1",
         "A",
         "26",
         "3",
         "5",
         "1134"
        ],
        [
         "2",
         "2",
         "A",
         "61",
         "8",
         "1",
         "4969"
        ],
        [
         "3",
         "3",
         "O",
         "24",
         "3",
         "6",
         "902"
        ],
        [
         "4",
         "4",
         "O",
         "39",
         "6",
         "2",
         "3574"
        ]
       ],
       "shape": {
        "columns": 6,
        "rows": 5
       }
      },
      "text/html": [
       "<div>\n",
       "<style scoped>\n",
       "    .dataframe tbody tr th:only-of-type {\n",
       "        vertical-align: middle;\n",
       "    }\n",
       "\n",
       "    .dataframe tbody tr th {\n",
       "        vertical-align: top;\n",
       "    }\n",
       "\n",
       "    .dataframe thead th {\n",
       "        text-align: right;\n",
       "    }\n",
       "</style>\n",
       "<table border=\"1\" class=\"dataframe\">\n",
       "  <thead>\n",
       "    <tr style=\"text-align: right;\">\n",
       "      <th></th>\n",
       "      <th>id</th>\n",
       "      <th>groups</th>\n",
       "      <th>age</th>\n",
       "      <th>healthy_eating</th>\n",
       "      <th>active_lifestyle</th>\n",
       "      <th>salary</th>\n",
       "    </tr>\n",
       "  </thead>\n",
       "  <tbody>\n",
       "    <tr>\n",
       "      <th>0</th>\n",
       "      <td>0</td>\n",
       "      <td>A</td>\n",
       "      <td>36</td>\n",
       "      <td>5</td>\n",
       "      <td>5</td>\n",
       "      <td>2297</td>\n",
       "    </tr>\n",
       "    <tr>\n",
       "      <th>1</th>\n",
       "      <td>1</td>\n",
       "      <td>A</td>\n",
       "      <td>26</td>\n",
       "      <td>3</td>\n",
       "      <td>5</td>\n",
       "      <td>1134</td>\n",
       "    </tr>\n",
       "    <tr>\n",
       "      <th>2</th>\n",
       "      <td>2</td>\n",
       "      <td>A</td>\n",
       "      <td>61</td>\n",
       "      <td>8</td>\n",
       "      <td>1</td>\n",
       "      <td>4969</td>\n",
       "    </tr>\n",
       "    <tr>\n",
       "      <th>3</th>\n",
       "      <td>3</td>\n",
       "      <td>O</td>\n",
       "      <td>24</td>\n",
       "      <td>3</td>\n",
       "      <td>6</td>\n",
       "      <td>902</td>\n",
       "    </tr>\n",
       "    <tr>\n",
       "      <th>4</th>\n",
       "      <td>4</td>\n",
       "      <td>O</td>\n",
       "      <td>39</td>\n",
       "      <td>6</td>\n",
       "      <td>2</td>\n",
       "      <td>3574</td>\n",
       "    </tr>\n",
       "  </tbody>\n",
       "</table>\n",
       "</div>"
      ],
      "text/plain": [
       "   id groups  age  healthy_eating  active_lifestyle  salary\n",
       "0   0      A   36               5                 5    2297\n",
       "1   1      A   26               3                 5    1134\n",
       "2   2      A   61               8                 1    4969\n",
       "3   3      O   24               3                 6     902\n",
       "4   4      O   39               6                 2    3574"
      ]
     },
     "execution_count": 3,
     "metadata": {},
     "output_type": "execute_result"
    }
   ],
   "source": [
    "# Take a brief look at the data\n",
    "df.head()"
   ]
  },
  {
   "cell_type": "code",
   "execution_count": 5,
   "metadata": {},
   "outputs": [
    {
     "data": {
      "text/plain": [
       "(50, 6)"
      ]
     },
     "execution_count": 5,
     "metadata": {},
     "output_type": "execute_result"
    }
   ],
   "source": [
    "# Get the dimension of the dataframe\n",
    "df.shape"
   ]
  },
  {
   "cell_type": "code",
   "execution_count": 6,
   "metadata": {},
   "outputs": [
    {
     "data": {
      "text/plain": [
       "RangeIndex(start=0, stop=50, step=1)"
      ]
     },
     "execution_count": 6,
     "metadata": {},
     "output_type": "execute_result"
    }
   ],
   "source": [
    "# Get the rows of the dataframe\n",
    "df.index"
   ]
  },
  {
   "cell_type": "code",
   "execution_count": 7,
   "metadata": {},
   "outputs": [
    {
     "data": {
      "text/plain": [
       "Index(['id', 'groups', 'age', 'healthy_eating', 'active_lifestyle', 'salary'], dtype='object')"
      ]
     },
     "execution_count": 7,
     "metadata": {},
     "output_type": "execute_result"
    }
   ],
   "source": [
    "#Get the columns names of the datafarme\n",
    "df.columns"
   ]
  },
  {
   "cell_type": "code",
   "execution_count": 8,
   "metadata": {},
   "outputs": [
    {
     "name": "stdout",
     "output_type": "stream",
     "text": [
      "<class 'pandas.core.frame.DataFrame'>\n",
      "RangeIndex: 50 entries, 0 to 49\n",
      "Data columns (total 6 columns):\n",
      " #   Column            Non-Null Count  Dtype \n",
      "---  ------            --------------  ----- \n",
      " 0   id                50 non-null     int64 \n",
      " 1   groups            50 non-null     object\n",
      " 2   age               50 non-null     int64 \n",
      " 3   healthy_eating    50 non-null     int64 \n",
      " 4   active_lifestyle  50 non-null     int64 \n",
      " 5   salary            50 non-null     int64 \n",
      "dtypes: int64(5), object(1)\n",
      "memory usage: 2.5+ KB\n"
     ]
    }
   ],
   "source": [
    "# Get the basic information of the data\n",
    "df.info()"
   ]
  },
  {
   "cell_type": "code",
   "execution_count": null,
   "metadata": {},
   "outputs": [],
   "source": []
  },
  {
   "cell_type": "markdown",
   "metadata": {},
   "source": [
    "Observations from Task 1\n",
    "There are 50 rows and 6 columns in the data. Each row contains the employee specifics of a certain employee in the company\n",
    "\n",
    "The features in the data set are:\n",
    "\n",
    "The id of the employees\n",
    "\n",
    "Their respective groups and age\n",
    "\n",
    "Their healthy_eating and active_lifestyle\n",
    "\n",
    "Their salary"
   ]
  },
  {
   "cell_type": "markdown",
   "metadata": {},
   "source": [
    "Task 2 - Visualise the distributions of ratings and compensations\n",
    "We will now visualise the distributions of employee ratings and compensations\n",
    "\n",
    "We will create the following plots:\n",
    "\n",
    "A scatter plot of employee age and employee salary, healthy_eating and active_lifestyle, health_eating and salary\n",
    "\n",
    "A count plot of groups\n",
    "\n",
    "A histogram of employee salary"
   ]
  },
  {
   "cell_type": "code",
   "execution_count": 11,
   "metadata": {},
   "outputs": [
    {
     "name": "stderr",
     "output_type": "stream",
     "text": [
      "C:\\Users\\admin\\AppData\\Local\\Temp\\ipykernel_21608\\4047371898.py:10: UserWarning: No artists with labels found to put in legend.  Note that artists whose label start with an underscore are ignored when legend() is called with no argument.\n",
      "  plt.legend()\n"
     ]
    },
    {
     "data": {
      "image/png": "[encoded data removed]",
      "text/plain": [
       "<Figure size 1000x500 with 1 Axes>"
      ]
     },
     "metadata": {},
     "output_type": "display_data"
    }
   ],
   "source": [
    "# Create a scatter plot of the \"Age\" and \"Employee Salary\" features\n",
    "\n",
    "plt.figure(figsize=(10, 5))\n",
    "\n",
    "sns.scatterplot(data=df, x=\"age\", y=\"salary\", color='blue', edgecolor='linen', alpha=0.7)\n",
    "\n",
    "plt.title(\"Scatterplot of Employee Age vs Employee Salary\")\n",
    "plt.xlabel('Employee Age')\n",
    "plt.ylabel('Employee Salary')\n",
    "plt.legend()\n",
    "plt.show()"
   ]
  },
  {
   "cell_type": "markdown",
   "metadata": {},
   "source": [
    "Observations:\n",
    "\n",
    "We observe that in general, there is a relationship between age and Salary of employee\n",
    "\n",
    "As age increases, the Salary also increases , though there are some outliers present as well"
   ]
  },
  {
   "cell_type": "code",
   "execution_count": null,
   "metadata": {},
   "outputs": [
    {
     "data": {
      "image/png": "[encoded data removed]",
      "text/plain": [
       "<Figure size 900x400 with 1 Axes>"
      ]
     },
     "metadata": {},
     "output_type": "display_data"
    }
   ],
   "source": [
    "# Create a scatter plot of the \"healthy_eating\" and \"active_lifestyle\" features\n",
    "\n",
    "plt.figure(figsize=(9,4))\n",
    "\n",
    "sns.scatterplot(data= df, x= 'healthy_eating', y = 'active_lifestyle', color='red', edgecolor='linen', alpha=0.7)\n",
    "\n",
    "plt.title(\"Scatterplot of Healthy Eating v/s Active Lifestyle\")\n",
    "plt.xlabel('Healthy Eating')\n",
    "plt.ylabel('Active Lifestyle')\n",
    "plt.show()"
   ]
  },
  {
   "cell_type": "markdown",
   "metadata": {},
   "source": [
    "Observations:\n",
    "\n",
    "We observe that in general, there is a relationship between healthy_eating and active_lifestyle of employee\n",
    "\n",
    "As healthy_eating increases, the active_lifestyle also increases"
   ]
  },
  {
   "cell_type": "code",
   "execution_count": 13,
   "metadata": {},
   "outputs": [
    {
     "data": {
      "image/png": "[encoded data removed]",
      "text/plain": [
       "<Figure size 900x400 with 1 Axes>"
      ]
     },
     "metadata": {},
     "output_type": "display_data"
    }
   ],
   "source": [
    "# Create a scatter plot of the \"healthy_eating\" and \"salary\" features\n",
    "plt.figure(figsize=(9,4))\n",
    "\n",
    "sns.scatterplot(data=df, x ='healthy_eating', y ='salary', color='black', edgecolor='linen', alpha=0.7)\n",
    "\n",
    "plt.title(\"Sactterplot of Healthy eating v/s Salary\")\n",
    "plt.xlabel('Healthy Eating')\n",
    "plt.ylabel('Salary')\n",
    "plt.show()"
   ]
  },
  {
   "cell_type": "markdown",
   "metadata": {},
   "source": [
    "Observations:\n",
    "\n",
    "We observe that in general, there is a relationship between healthy_eating and salary of employee\n",
    "\n",
    "As healthy_eating increases, the salary also increases"
   ]
  },
  {
   "cell_type": "code",
   "execution_count": 14,
   "metadata": {},
   "outputs": [
    {
     "data": {
      "image/png": "[encoded data removed]",
      "text/plain": [
       "<Figure size 900x400 with 1 Axes>"
      ]
     },
     "metadata": {},
     "output_type": "display_data"
    }
   ],
   "source": [
    "# Create a count plot of the \"groups\" feature\n",
    "\n",
    "plt.figure(figsize=(9,4))\n",
    "\n",
    "sns.countplot(data= df, x='groups',edgecolor='linen', alpha=0.7)\n",
    "\n",
    "plt.title(\"Count Plot of group\")\n",
    "plt.xlabel('Group')\n",
    "plt.ylabel('Count')\n",
    "plt.show()"
   ]
  },
  {
   "cell_type": "markdown",
   "metadata": {},
   "source": [
    "Observation:\n",
    "\n",
    "We see that most employees either belong to Group A or Group O, with group A having maximum frequency"
   ]
  },
  {
   "cell_type": "code",
   "execution_count": 15,
   "metadata": {},
   "outputs": [
    {
     "data": {
      "image/png": "[encoded data removed]",
      "text/plain": [
       "<Figure size 900x400 with 1 Axes>"
      ]
     },
     "metadata": {},
     "output_type": "display_data"
    }
   ],
   "source": [
    "# Create a histogram of the \"Salary\" feature\n",
    "\n",
    "plt.figure(figsize=(9,4))\n",
    "\n",
    "sns.histplot(data=df, x='salary', color='orange', edgecolor='linen', alpha=0.7, bins=10)\n",
    "\n",
    "plt.title(\"Histogram of Salary\")\n",
    "plt.xlabel('Salary')\n",
    "plt.ylabel('Count')\n",
    "plt.show()"
   ]
  },
  {
   "cell_type": "markdown",
   "metadata": {},
   "source": [
    "Observations:\n",
    "\n",
    "We see that the salaries are not uniform, which is not necessarily a discrepancy\n",
    "\n",
    "But we do observe that there are employees with salaries on either extremities of the histogram\n",
    "\n",
    "Based on the histogram, we can see that the count of highest earning employee is very less"
   ]
  },
  {
   "cell_type": "markdown",
   "metadata": {},
   "source": [
    "# **Observations from Task 2**\n",
    "\n",
    "1. Generally, as the employee's age increase, there is an increase in the employee salary\n",
    "\n",
    "2. Generally, as the employee's healthy_eating habit increase, there is an increase in the employee salary as well\n",
    "\n",
    "3. However, the employee salary values are more spread out\n",
    "\n",
    "4. An employee of healthy_eating greater than 8 can be taken as 8 only\n",
    "\n",
    "5. An employee salary less than 1000 can be considered as a lower salary\n",
    "\n"
   ]
  },
  {
   "cell_type": "markdown",
   "metadata": {},
   "source": [
    "# **Task 3**  - Subset the data based on thresholds\n",
    "\n",
    "We will now subset the original data frame based on the following conditions:\n",
    "\n",
    "* Employees with healthy_eating greater than 8\n",
    "\n",
    "* Employees with Salary less than 1000\n",
    "\n",
    "* Employees with healthy_eating greater than 8 and with salary less than 1000"
   ]
  },
  {
   "cell_type": "code",
   "execution_count": 17,
   "metadata": {},
   "outputs": [],
   "source": [
    "# Employee healthy_eating is greater than 8\n",
    "sub1=df[df['healthy_eating'] > 8]"
   ]
  },
  {
   "cell_type": "code",
   "execution_count": 18,
   "metadata": {},
   "outputs": [
    {
     "data": {
      "application/vnd.microsoft.datawrangler.viewer.v0+json": {
       "columns": [
        {
         "name": "index",
         "rawType": "int64",
         "type": "integer"
        },
        {
         "name": "id",
         "rawType": "int64",
         "type": "integer"
        },
        {
         "name": "groups",
         "rawType": "object",
         "type": "string"
        },
        {
         "name": "age",
         "rawType": "int64",
         "type": "integer"
        },
        {
         "name": "healthy_eating",
         "rawType": "int64",
         "type": "integer"
        },
        {
         "name": "active_lifestyle",
         "rawType": "int64",
         "type": "integer"
        },
        {
         "name": "salary",
         "rawType": "int64",
         "type": "integer"
        }
       ],
       "conversionMethod": "pd.DataFrame",
       "ref": "79de800d-cd50-471e-93e2-5e320cd667f7",
       "rows": [
        [
         "26",
         "26",
         "A",
         "62",
         "9",
         "6",
         "700"
        ]
       ],
       "shape": {
        "columns": 6,
        "rows": 1
       }
      },
      "text/html": [
       "<div>\n",
       "<style scoped>\n",
       "    .dataframe tbody tr th:only-of-type {\n",
       "        vertical-align: middle;\n",
       "    }\n",
       "\n",
       "    .dataframe tbody tr th {\n",
       "        vertical-align: top;\n",
       "    }\n",
       "\n",
       "    .dataframe thead th {\n",
       "        text-align: right;\n",
       "    }\n",
       "</style>\n",
       "<table border=\"1\" class=\"dataframe\">\n",
       "  <thead>\n",
       "    <tr style=\"text-align: right;\">\n",
       "      <th></th>\n",
       "      <th>id</th>\n",
       "      <th>groups</th>\n",
       "      <th>age</th>\n",
       "      <th>healthy_eating</th>\n",
       "      <th>active_lifestyle</th>\n",
       "      <th>salary</th>\n",
       "    </tr>\n",
       "  </thead>\n",
       "  <tbody>\n",
       "    <tr>\n",
       "      <th>26</th>\n",
       "      <td>26</td>\n",
       "      <td>A</td>\n",
       "      <td>62</td>\n",
       "      <td>9</td>\n",
       "      <td>6</td>\n",
       "      <td>700</td>\n",
       "    </tr>\n",
       "  </tbody>\n",
       "</table>\n",
       "</div>"
      ],
      "text/plain": [
       "    id groups  age  healthy_eating  active_lifestyle  salary\n",
       "26  26      A   62               9                 6     700"
      ]
     },
     "execution_count": 18,
     "metadata": {},
     "output_type": "execute_result"
    }
   ],
   "source": [
    "sub1"
   ]
  },
  {
   "cell_type": "code",
   "execution_count": 19,
   "metadata": {},
   "outputs": [],
   "source": [
    "#salary less than 1000\n",
    "sub2 = df[df['salary'] < 1000]\n"
   ]
  },
  {
   "cell_type": "code",
   "execution_count": 20,
   "metadata": {},
   "outputs": [
    {
     "data": {
      "application/vnd.microsoft.datawrangler.viewer.v0+json": {
       "columns": [
        {
         "name": "index",
         "rawType": "int64",
         "type": "integer"
        },
        {
         "name": "id",
         "rawType": "int64",
         "type": "integer"
        },
        {
         "name": "groups",
         "rawType": "object",
         "type": "string"
        },
        {
         "name": "age",
         "rawType": "int64",
         "type": "integer"
        },
        {
         "name": "healthy_eating",
         "rawType": "int64",
         "type": "integer"
        },
        {
         "name": "active_lifestyle",
         "rawType": "int64",
         "type": "integer"
        },
        {
         "name": "salary",
         "rawType": "int64",
         "type": "integer"
        }
       ],
       "conversionMethod": "pd.DataFrame",
       "ref": "265ffde7-bbf7-4dfc-891f-bc7b8b2dbda9",
       "rows": [
        [
         "3",
         "3",
         "O",
         "24",
         "3",
         "6",
         "902"
        ],
        [
         "15",
         "15",
         "B",
         "26",
         "3",
         "8",
         "662"
        ],
        [
         "18",
         "18",
         "A",
         "27",
         "2",
         "6",
         "779"
        ],
        [
         "26",
         "26",
         "A",
         "62",
         "9",
         "6",
         "700"
        ],
        [
         "32",
         "32",
         "A",
         "22",
         "3",
         "8",
         "662"
        ],
        [
         "35",
         "35",
         "O",
         "27",
         "2",
         "4",
         "785"
        ],
        [
         "38",
         "38",
         "AB",
         "26",
         "3",
         "7",
         "670"
        ],
        [
         "39",
         "39",
         "B",
         "29",
         "2",
         "6",
         "779"
        ],
        [
         "43",
         "43",
         "O",
         "23",
         "4",
         "10",
         "556"
        ]
       ],
       "shape": {
        "columns": 6,
        "rows": 9
       }
      },
      "text/html": [
       "<div>\n",
       "<style scoped>\n",
       "    .dataframe tbody tr th:only-of-type {\n",
       "        vertical-align: middle;\n",
       "    }\n",
       "\n",
       "    .dataframe tbody tr th {\n",
       "        vertical-align: top;\n",
       "    }\n",
       "\n",
       "    .dataframe thead th {\n",
       "        text-align: right;\n",
       "    }\n",
       "</style>\n",
       "<table border=\"1\" class=\"dataframe\">\n",
       "  <thead>\n",
       "    <tr style=\"text-align: right;\">\n",
       "      <th></th>\n",
       "      <th>id</th>\n",
       "      <th>groups</th>\n",
       "      <th>age</th>\n",
       "      <th>healthy_eating</th>\n",
       "      <th>active_lifestyle</th>\n",
       "      <th>salary</th>\n",
       "    </tr>\n",
       "  </thead>\n",
       "  <tbody>\n",
       "    <tr>\n",
       "      <th>3</th>\n",
       "      <td>3</td>\n",
       "      <td>O</td>\n",
       "      <td>24</td>\n",
       "      <td>3</td>\n",
       "      <td>6</td>\n",
       "      <td>902</td>\n",
       "    </tr>\n",
       "    <tr>\n",
       "      <th>15</th>\n",
       "      <td>15</td>\n",
       "      <td>B</td>\n",
       "      <td>26</td>\n",
       "      <td>3</td>\n",
       "      <td>8</td>\n",
       "      <td>662</td>\n",
       "    </tr>\n",
       "    <tr>\n",
       "      <th>18</th>\n",
       "      <td>18</td>\n",
       "      <td>A</td>\n",
       "      <td>27</td>\n",
       "      <td>2</td>\n",
       "      <td>6</td>\n",
       "      <td>779</td>\n",
       "    </tr>\n",
       "    <tr>\n",
       "      <th>26</th>\n",
       "      <td>26</td>\n",
       "      <td>A</td>\n",
       "      <td>62</td>\n",
       "      <td>9</td>\n",
       "      <td>6</td>\n",
       "      <td>700</td>\n",
       "    </tr>\n",
       "    <tr>\n",
       "      <th>32</th>\n",
       "      <td>32</td>\n",
       "      <td>A</td>\n",
       "      <td>22</td>\n",
       "      <td>3</td>\n",
       "      <td>8</td>\n",
       "      <td>662</td>\n",
       "    </tr>\n",
       "    <tr>\n",
       "      <th>35</th>\n",
       "      <td>35</td>\n",
       "      <td>O</td>\n",
       "      <td>27</td>\n",
       "      <td>2</td>\n",
       "      <td>4</td>\n",
       "      <td>785</td>\n",
       "    </tr>\n",
       "    <tr>\n",
       "      <th>38</th>\n",
       "      <td>38</td>\n",
       "      <td>AB</td>\n",
       "      <td>26</td>\n",
       "      <td>3</td>\n",
       "      <td>7</td>\n",
       "      <td>670</td>\n",
       "    </tr>\n",
       "    <tr>\n",
       "      <th>39</th>\n",
       "      <td>39</td>\n",
       "      <td>B</td>\n",
       "      <td>29</td>\n",
       "      <td>2</td>\n",
       "      <td>6</td>\n",
       "      <td>779</td>\n",
       "    </tr>\n",
       "    <tr>\n",
       "      <th>43</th>\n",
       "      <td>43</td>\n",
       "      <td>O</td>\n",
       "      <td>23</td>\n",
       "      <td>4</td>\n",
       "      <td>10</td>\n",
       "      <td>556</td>\n",
       "    </tr>\n",
       "  </tbody>\n",
       "</table>\n",
       "</div>"
      ],
      "text/plain": [
       "    id groups  age  healthy_eating  active_lifestyle  salary\n",
       "3    3      O   24               3                 6     902\n",
       "15  15      B   26               3                 8     662\n",
       "18  18      A   27               2                 6     779\n",
       "26  26      A   62               9                 6     700\n",
       "32  32      A   22               3                 8     662\n",
       "35  35      O   27               2                 4     785\n",
       "38  38     AB   26               3                 7     670\n",
       "39  39      B   29               2                 6     779\n",
       "43  43      O   23               4                10     556"
      ]
     },
     "execution_count": 20,
     "metadata": {},
     "output_type": "execute_result"
    }
   ],
   "source": [
    "sub2"
   ]
  },
  {
   "cell_type": "code",
   "execution_count": 21,
   "metadata": {},
   "outputs": [],
   "source": [
    "# Employees with healthy_eating greater than 8 and with salary less than 1000\n",
    "\n",
    "sub = df[(df['healthy_eating'] > 8) & (df['salary']< 1000)]\n"
   ]
  },
  {
   "cell_type": "code",
   "execution_count": 22,
   "metadata": {},
   "outputs": [
    {
     "data": {
      "application/vnd.microsoft.datawrangler.viewer.v0+json": {
       "columns": [
        {
         "name": "index",
         "rawType": "int64",
         "type": "integer"
        },
        {
         "name": "id",
         "rawType": "int64",
         "type": "integer"
        },
        {
         "name": "groups",
         "rawType": "object",
         "type": "string"
        },
        {
         "name": "age",
         "rawType": "int64",
         "type": "integer"
        },
        {
         "name": "healthy_eating",
         "rawType": "int64",
         "type": "integer"
        },
        {
         "name": "active_lifestyle",
         "rawType": "int64",
         "type": "integer"
        },
        {
         "name": "salary",
         "rawType": "int64",
         "type": "integer"
        }
       ],
       "conversionMethod": "pd.DataFrame",
       "ref": "214b2784-1bed-4f99-b90c-3de3fd52e493",
       "rows": [
        [
         "26",
         "26",
         "A",
         "62",
         "9",
         "6",
         "700"
        ]
       ],
       "shape": {
        "columns": 6,
        "rows": 1
       }
      },
      "text/html": [
       "<div>\n",
       "<style scoped>\n",
       "    .dataframe tbody tr th:only-of-type {\n",
       "        vertical-align: middle;\n",
       "    }\n",
       "\n",
       "    .dataframe tbody tr th {\n",
       "        vertical-align: top;\n",
       "    }\n",
       "\n",
       "    .dataframe thead th {\n",
       "        text-align: right;\n",
       "    }\n",
       "</style>\n",
       "<table border=\"1\" class=\"dataframe\">\n",
       "  <thead>\n",
       "    <tr style=\"text-align: right;\">\n",
       "      <th></th>\n",
       "      <th>id</th>\n",
       "      <th>groups</th>\n",
       "      <th>age</th>\n",
       "      <th>healthy_eating</th>\n",
       "      <th>active_lifestyle</th>\n",
       "      <th>salary</th>\n",
       "    </tr>\n",
       "  </thead>\n",
       "  <tbody>\n",
       "    <tr>\n",
       "      <th>26</th>\n",
       "      <td>26</td>\n",
       "      <td>A</td>\n",
       "      <td>62</td>\n",
       "      <td>9</td>\n",
       "      <td>6</td>\n",
       "      <td>700</td>\n",
       "    </tr>\n",
       "  </tbody>\n",
       "</table>\n",
       "</div>"
      ],
      "text/plain": [
       "    id groups  age  healthy_eating  active_lifestyle  salary\n",
       "26  26      A   62               9                 6     700"
      ]
     },
     "execution_count": 22,
     "metadata": {},
     "output_type": "execute_result"
    }
   ],
   "source": [
    "sub"
   ]
  },
  {
   "cell_type": "markdown",
   "metadata": {},
   "source": [
    "Observations:\n",
    "\n",
    "The only employee seemingly facing a discrepancy in salary as compared to healthy_eating is employee who is having id = 26\n",
    "\n",
    "The employee with id having 26 has a salary of 700"
   ]
  },
  {
   "cell_type": "markdown",
   "metadata": {},
   "source": [
    "Final Conclusions\n",
    "From the given data, we can use simple visualisations to get a sense of how data are distributed\n",
    "\n",
    "We can conduct preliminary analyses simply by subsetting data sets using well thought out thresholds and conditions"
   ]
  }
 ],
 "metadata": {
  "kernelspec": {
   "display_name": "Python 3",
   "language": "python",
   "name": "python3"
  },
  "language_info": {
   "codemirror_mode": {
    "name": "ipython",
    "version": 3
   },
   "file_extension": ".py",
   "mimetype": "text/x-python",
   "name": "python",
   "nbconvert_exporter": "python",
   "pygments_lexer": "ipython3",
   "version": "3.12.6"
  }
 },
 "nbformat": 4,
 "nbformat_minor": 2
}
